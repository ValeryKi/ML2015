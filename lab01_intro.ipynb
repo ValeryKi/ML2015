{
 "cells": [
  {
   "cell_type": "markdown",
   "metadata": {},
   "source": [
    "# Лабораторная работа 1. Язык Python, основные библиотеки для анализа данных."
   ]
  },
  {
   "cell_type": "markdown",
   "metadata": {},
   "source": [
    "ФИО: Кибитова Валерия Николаевна\n",
    "\n",
    "Группа: 517"
   ]
  },
  {
   "cell_type": "code",
   "execution_count": 1,
   "metadata": {
    "collapsed": true
   },
   "outputs": [],
   "source": [
    "import numpy as np\n",
    "import pandas as pd"
   ]
  },
  {
   "cell_type": "markdown",
   "metadata": {},
   "source": [
    "## Часть 1: Python"
   ]
  },
  {
   "cell_type": "markdown",
   "metadata": {},
   "source": [
    "#### 1. Напишите код, который сформирует список всех натуральных чисел, не превосходящих 100, которые делятся на 7 и не делятся на 5. Нельзя использовать циклы — выполните это задание с помощью list comprehension."
   ]
  },
  {
   "cell_type": "code",
   "execution_count": 4,
   "metadata": {
    "collapsed": false
   },
   "outputs": [
    {
     "data": {
      "text/plain": [
       "[7, 14, 21, 28, 42, 49, 56, 63, 77, 84, 91, 98]"
      ]
     },
     "execution_count": 4,
     "metadata": {},
     "output_type": "execute_result"
    }
   ],
   "source": [
    "l = [x for x in xrange(1, 101) if (x % 7 == 0) and (x % 5 != 0)]\n",
    "l"
   ]
  },
  {
   "cell_type": "markdown",
   "metadata": {},
   "source": [
    "#### 2. Напишите функцию `sort_tokens(s)`, которая принимает на вход строку, разделяет ее на токены по запятым, сортирует токены с помощью функции `sorted()` и снова соединяет их в одну строку через запятые. Например, для строки `u\"ночь,фонарь,улица\"` функция должна выдать `u\"ночь,улица,фонарь\"`. Придумайте несколько входных строк и протестируйте функцию на них."
   ]
  },
  {
   "cell_type": "markdown",
   "metadata": {},
   "source": [
    "Обратите внимание, что склеить строки можно с помощью конструкции `'x'.join(...)`. Например:"
   ]
  },
  {
   "cell_type": "code",
   "execution_count": 2,
   "metadata": {
    "collapsed": false
   },
   "outputs": [
    {
     "data": {
      "text/plain": [
       "'i! am! very! excited! :-)'"
      ]
     },
     "execution_count": 2,
     "metadata": {},
     "output_type": "execute_result"
    }
   ],
   "source": [
    "'! '.join(['i', 'am', 'very', 'excited', ':-)'])"
   ]
  },
  {
   "cell_type": "code",
   "execution_count": 9,
   "metadata": {
    "collapsed": false
   },
   "outputs": [
    {
     "name": "stdout",
     "output_type": "stream",
     "text": [
      "c++,haskell,java,python,ruby\n",
      "cat,dog,fox,hamster\n"
     ]
    }
   ],
   "source": [
    "def sort_tokens(s):\n",
    "    s = s.split(',')\n",
    "    s = sorted(s)\n",
    "    s = ','.join(s)\n",
    "    return s\n",
    "print sort_tokens(\"python,c++,haskell,java,ruby\")\n",
    "print sort_tokens(\"cat,dog,hamster,fox\")"
   ]
  },
  {
   "cell_type": "markdown",
   "metadata": {},
   "source": [
    "#### 3. Напишите функцию `remove_duplicates(a)`, которая принимает на вход список и возвращает его же, но без дубликатов и в отсортированном виде. Например, для списка `[u\"ночь\", u\"улица\", u\"фонарь\", u\"аптека\", u\"аптека\", u\"улица\", u\"фонарь\"]` результат должен быть `[u\"аптека\", u\"ночь\", u\"улица\", u\"фонарь\", ]`."
   ]
  },
  {
   "cell_type": "markdown",
   "metadata": {},
   "source": [
    "Подсказка: обратите внимание на структуру `set`!"
   ]
  },
  {
   "cell_type": "code",
   "execution_count": 11,
   "metadata": {
    "collapsed": false
   },
   "outputs": [
    {
     "data": {
      "text/plain": [
       "['a', 'aa', 'bb', 'd', 'z']"
      ]
     },
     "execution_count": 11,
     "metadata": {},
     "output_type": "execute_result"
    }
   ],
   "source": [
    "def remove_duplicates(a):\n",
    "    return sorted(set(a))\n",
    "remove_duplicates([\"a\", \"bb\", \"aa\", \"a\", \"z\", \"z\", \"d\"])"
   ]
  },
  {
   "cell_type": "markdown",
   "metadata": {},
   "source": [
    "#### 4. Напишите функцию `word_counts(texts)`, которая принимает на вход список строк, и печатает пары (слово, число вхождений). Считайте, что слова в текстах могут быть разделены только пробелами. Например, для входа `[u'ночь улица фонарь аптека', u'аптека улица фонарь']` должно быть напечатано\n",
    ">аптека 2\n",
    "\n",
    ">улица 2\n",
    "\n",
    ">фонарь 2\n",
    "\n",
    ">ночь 1"
   ]
  },
  {
   "cell_type": "markdown",
   "metadata": {},
   "source": [
    "Подсказки:\n",
    "\n",
    "Чтобы разбить каждый из текстов на слова, воспользуйтесь функцией `map`, которая применяет заданную функцию к каждому элементу списка. Например, если бы нужно было каждый из текстов привести к нижнему регистру, то команда выглядела бы так:"
   ]
  },
  {
   "cell_type": "code",
   "execution_count": 3,
   "metadata": {
    "collapsed": false
   },
   "outputs": [
    {
     "data": {
      "text/plain": [
       "['abcdefg', 'hijkl']"
      ]
     },
     "execution_count": 3,
     "metadata": {},
     "output_type": "execute_result"
    }
   ],
   "source": [
    "map(lambda x: x.lower(), [\"abCDefg\", \"HIjkL\"])"
   ]
  },
  {
   "cell_type": "markdown",
   "metadata": {},
   "source": [
    "После первого шага вы получите список, состоящий из списков слов. Чтобы объединить их в один список слов, воспользуйтесь функцией `reduce`. Например, просуммировать числа из списка с ее помощью можно так:\n",
    "\n"
   ]
  },
  {
   "cell_type": "code",
   "execution_count": 4,
   "metadata": {
    "collapsed": false
   },
   "outputs": [
    {
     "data": {
      "text/plain": [
       "15"
      ]
     },
     "execution_count": 4,
     "metadata": {},
     "output_type": "execute_result"
    }
   ],
   "source": [
    "reduce(lambda x, y: x + y, [1, 2, 3, 4, 5])"
   ]
  },
  {
   "cell_type": "markdown",
   "metadata": {},
   "source": [
    "Для подсчета количества вхождений слов воспользуйтесь структурой `defaultdict` из модуля `collections`. В отличие от обычного `dict`, она не генерирует ошибку при обращении к несуществущему ключу, а создает новую запись, инициализируемую нулевым значением. Например:"
   ]
  },
  {
   "cell_type": "code",
   "execution_count": 18,
   "metadata": {
    "collapsed": false
   },
   "outputs": [
    {
     "name": "stdout",
     "output_type": "stream",
     "text": [
      "defaultdict(<type 'int'>, {})\n",
      "defaultdict(<type 'int'>, {'abc': 1})\n",
      "defaultdict(<type 'int'>, {'xxx': 0, 'abc': 1})\n"
     ]
    }
   ],
   "source": [
    "from collections import defaultdict\n",
    "d = defaultdict(int)\n",
    "print d\n",
    "d['abc'] += 1\n",
    "print d\n",
    "d['xxx']\n",
    "print d"
   ]
  },
  {
   "cell_type": "code",
   "execution_count": 22,
   "metadata": {
    "collapsed": false
   },
   "outputs": [
    {
     "name": "stdout",
     "output_type": "stream",
     "text": [
      "a 5\n",
      "d 2\n",
      "f 2\n",
      "ee 1\n",
      "bc 1\n",
      "z 1\n"
     ]
    }
   ],
   "source": [
    "def word_counts(texts):\n",
    "    texts = map(lambda x: x.split(' '), texts)\n",
    "    texts = reduce(lambda x, y: x + y, texts)\n",
    "    words = defaultdict(int)\n",
    "    for i in texts:\n",
    "        words[i] += 1\n",
    "    for key in words:\n",
    "        print '{0} {1}'.format(key, words[key])\n",
    "    \n",
    "word_counts([\"a bc\", \"d f\", \"ee f d a\", \"a a a\", \"z\"]) "
   ]
  },
  {
   "cell_type": "markdown",
   "metadata": {},
   "source": [
    "#### 5. (бонусное задание) Скачайте английский перевод \"Преступления и наказания\". Найдите 20 самых популярных слов и 20 слов, которые встречаются только один раз."
   ]
  },
  {
   "cell_type": "markdown",
   "metadata": {},
   "source": [
    "Приведите текст к нижнему регистру. Разделите текст на слова, считая разделителями все, кроме букв. Обратите внимание на функцию `split` из модуля `re`.\n",
    "\n",
    "Не забудьте удалить пустые слова:\n",
    "```\n",
    "words = filter(lambda x: len(x) > 0, words)\n",
    "```"
   ]
  },
  {
   "cell_type": "code",
   "execution_count": 25,
   "metadata": {
    "collapsed": false
   },
   "outputs": [],
   "source": [
    "from urllib import urlopen\n",
    "url = \"http://www.gutenberg.org/files/2554/2554.txt\"\n",
    "response = urlopen(url)\n",
    "raw_text = response.read().decode('utf8')"
   ]
  },
  {
   "cell_type": "code",
   "execution_count": 26,
   "metadata": {
    "collapsed": false
   },
   "outputs": [
    {
     "data": {
      "text/plain": [
       "u'r five\\r\\nchildren in only two rooms. The father and mother spent their evenings\\r\\nin reading aloud to '"
      ]
     },
     "execution_count": 26,
     "metadata": {},
     "output_type": "execute_result"
    }
   ],
   "source": [
    "raw_text[1000:1100]"
   ]
  },
  {
   "cell_type": "code",
   "execution_count": 46,
   "metadata": {
    "collapsed": false
   },
   "outputs": [
    {
     "name": "stdout",
     "output_type": "stream",
     "text": [
      "['the', 'and', 'to', 'he', 'a', 'i', 'you', 'of', 'it', 'that', 'in', 'was', 'his', 'at', 'her', 'but', 'not', 's', 'with', 'she']\n",
      "['lawful', 'fawning', 'sabre', 'noxious', 'faithfully', 'uncontrollable', 'funds', 'deuce', 'tactics', 'rigamarole', 'venetian', 'rickety', 'unfolding', 'gnawing', 'bombarding', 'transfigured', 'june', 'upwards', 'sash', 'bereaved']\n"
     ]
    }
   ],
   "source": [
    "import re\n",
    "from collections import Counter\n",
    "words = re.split(\"[^A-Za-z]+\", raw_text.lower())\n",
    "words = filter(lambda x: len(x) > 0, words)\n",
    "counter = Counter(words)\n",
    "print [str(x[0]) for x in counter.most_common(20)]\n",
    "print [str(x[0]) for x in counter.most_common()[-20:]]"
   ]
  },
  {
   "cell_type": "markdown",
   "metadata": {},
   "source": [
    "20 самых популярных слов: 'the', 'and', 'to', 'he', 'a', 'i', 'you', 'of', 'it', 'that', 'in', 'was', 'his', 'at', 'her', 'but', 'not', 's', 'with', 'she'\n",
    "\n",
    "20 слов, которые встречаются только 1 раз: 'lawful', 'fawning', 'sabre', 'noxious', 'faithfully', 'uncontrollable', 'funds', 'deuce', 'tactics', 'rigamarole', 'venetian', 'rickety', 'unfolding', 'gnawing', 'bombarding', 'transfigured', 'june', 'upwards', 'sash', 'bereaved'"
   ]
  },
  {
   "cell_type": "markdown",
   "metadata": {},
   "source": [
    "## Часть 2: NumPy и SciPy"
   ]
  },
  {
   "cell_type": "markdown",
   "metadata": {},
   "source": [
    "#### 1. Повторите 1000 раз следующий эксперимент: сгенерируйте две матрицы размера $10 \\times 10$ из стандартного нормального распределения, перемножьте их (как матрицы) и найдите максимальный элемент. Какое среднее значение по экспериментам у максимальных элементов? 95-процентная квантиль?"
   ]
  },
  {
   "cell_type": "markdown",
   "metadata": {},
   "source": [
    "Для вычисления квантили воспользуйтесь функцией `np.percentile`"
   ]
  },
  {
   "cell_type": "code",
   "execution_count": 73,
   "metadata": {
    "collapsed": false
   },
   "outputs": [
    {
     "name": "stdout",
     "output_type": "stream",
     "text": [
      "8.38557183558\n",
      "11.6800640541\n"
     ]
    }
   ],
   "source": [
    "from numpy.random import randn\n",
    "import numpy as np\n",
    "max_list = []\n",
    "for i in xrange(1000):\n",
    "    m_1 =  randn(10, 10)\n",
    "    m_2 = randn(10, 10)\n",
    "    m = m_1.dot(m_2)\n",
    "    max_list.append(m.max())\n",
    "print np.mean(max_list)\n",
    "print np.percentile(max_list, 95)"
   ]
  },
  {
   "cell_type": "markdown",
   "metadata": {},
   "source": [
    "Среднее значение по экспериментам у максимальных элементов: 8.38557183558\n",
    "\n",
    "95-процентная квантиль: 11.6800640541"
   ]
  },
  {
   "cell_type": "markdown",
   "metadata": {},
   "source": [
    "#### 2. Сгенерируйте 1000 чисел из распределения Пуассона с параметром $\\lambda = 5$. Сформируйте массив, в котором в i-м элементе будет записано количество сгенерированных чисел, равных i."
   ]
  },
  {
   "cell_type": "markdown",
   "metadata": {},
   "source": [
    "Обратите внимание на функцию `np.bincount`"
   ]
  },
  {
   "cell_type": "code",
   "execution_count": 70,
   "metadata": {
    "collapsed": false
   },
   "outputs": [
    {
     "name": "stdout",
     "output_type": "stream",
     "text": [
      "[  6  41  88 137 187 154 139 115  76  31  14   8   1   2   1]\n"
     ]
    }
   ],
   "source": [
    "from numpy.random import poisson\n",
    "ar = poisson(5, size=1000)\n",
    "ar = np.bincount(ar)\n",
    "print ar"
   ]
  },
  {
   "cell_type": "markdown",
   "metadata": {},
   "source": [
    "#### 3. Реализуйте функцию, которая принимает на вход numpy-массив целых чисел `a`, и генерирует массив, в котором число `i` встречается `a[i]` раз. Протестируйте на результате из прошлого задания."
   ]
  },
  {
   "cell_type": "markdown",
   "metadata": {},
   "source": [
    "Обратите внимание на функцию `np.repeat`"
   ]
  },
  {
   "cell_type": "code",
   "execution_count": 74,
   "metadata": {
    "collapsed": false
   },
   "outputs": [
    {
     "name": "stdout",
     "output_type": "stream",
     "text": [
      "[ 0  0  0  0  0  0  1  1  1  1  1  1  1  1  1  1  1  1  1  1  1  1  1  1  1\n",
      "  1  1  1  1  1  1  1  1  1  1  1  1  1  1  1  1  1  1  1  1  1  1  2  2  2\n",
      "  2  2  2  2  2  2  2  2  2  2  2  2  2  2  2  2  2  2  2  2  2  2  2  2  2\n",
      "  2  2  2  2  2  2  2  2  2  2  2  2  2  2  2  2  2  2  2  2  2  2  2  2  2\n",
      "  2  2  2  2  2  2  2  2  2  2  2  2  2  2  2  2  2  2  2  2  2  2  2  2  2\n",
      "  2  2  2  2  2  2  2  2  2  2  3  3  3  3  3  3  3  3  3  3  3  3  3  3  3\n",
      "  3  3  3  3  3  3  3  3  3  3  3  3  3  3  3  3  3  3  3  3  3  3  3  3  3\n",
      "  3  3  3  3  3  3  3  3  3  3  3  3  3  3  3  3  3  3  3  3  3  3  3  3  3\n",
      "  3  3  3  3  3  3  3  3  3  3  3  3  3  3  3  3  3  3  3  3  3  3  3  3  3\n",
      "  3  3  3  3  3  3  3  3  3  3  3  3  3  3  3  3  3  3  3  3  3  3  3  3  3\n",
      "  3  3  3  3  3  3  3  3  3  3  3  3  3  3  3  3  3  3  3  3  3  3  4  4  4\n",
      "  4  4  4  4  4  4  4  4  4  4  4  4  4  4  4  4  4  4  4  4  4  4  4  4  4\n",
      "  4  4  4  4  4  4  4  4  4  4  4  4  4  4  4  4  4  4  4  4  4  4  4  4  4\n",
      "  4  4  4  4  4  4  4  4  4  4  4  4  4  4  4  4  4  4  4  4  4  4  4  4  4\n",
      "  4  4  4  4  4  4  4  4  4  4  4  4  4  4  4  4  4  4  4  4  4  4  4  4  4\n",
      "  4  4  4  4  4  4  4  4  4  4  4  4  4  4  4  4  4  4  4  4  4  4  4  4  4\n",
      "  4  4  4  4  4  4  4  4  4  4  4  4  4  4  4  4  4  4  4  4  4  4  4  4  4\n",
      "  4  4  4  4  4  4  4  4  4  4  4  4  4  4  4  4  4  4  4  4  4  4  4  4  4\n",
      "  4  4  4  4  4  4  4  4  4  5  5  5  5  5  5  5  5  5  5  5  5  5  5  5  5\n",
      "  5  5  5  5  5  5  5  5  5  5  5  5  5  5  5  5  5  5  5  5  5  5  5  5  5\n",
      "  5  5  5  5  5  5  5  5  5  5  5  5  5  5  5  5  5  5  5  5  5  5  5  5  5\n",
      "  5  5  5  5  5  5  5  5  5  5  5  5  5  5  5  5  5  5  5  5  5  5  5  5  5\n",
      "  5  5  5  5  5  5  5  5  5  5  5  5  5  5  5  5  5  5  5  5  5  5  5  5  5\n",
      "  5  5  5  5  5  5  5  5  5  5  5  5  5  5  5  5  5  5  5  5  5  5  5  5  5\n",
      "  5  5  5  5  5  5  5  5  5  5  5  5  5  6  6  6  6  6  6  6  6  6  6  6  6\n",
      "  6  6  6  6  6  6  6  6  6  6  6  6  6  6  6  6  6  6  6  6  6  6  6  6  6\n",
      "  6  6  6  6  6  6  6  6  6  6  6  6  6  6  6  6  6  6  6  6  6  6  6  6  6\n",
      "  6  6  6  6  6  6  6  6  6  6  6  6  6  6  6  6  6  6  6  6  6  6  6  6  6\n",
      "  6  6  6  6  6  6  6  6  6  6  6  6  6  6  6  6  6  6  6  6  6  6  6  6  6\n",
      "  6  6  6  6  6  6  6  6  6  6  6  6  6  6  6  6  6  6  6  6  6  6  6  6  6\n",
      "  6  6  7  7  7  7  7  7  7  7  7  7  7  7  7  7  7  7  7  7  7  7  7  7  7\n",
      "  7  7  7  7  7  7  7  7  7  7  7  7  7  7  7  7  7  7  7  7  7  7  7  7  7\n",
      "  7  7  7  7  7  7  7  7  7  7  7  7  7  7  7  7  7  7  7  7  7  7  7  7  7\n",
      "  7  7  7  7  7  7  7  7  7  7  7  7  7  7  7  7  7  7  7  7  7  7  7  7  7\n",
      "  7  7  7  7  7  7  7  7  7  7  7  7  7  7  7  7  7  8  8  8  8  8  8  8  8\n",
      "  8  8  8  8  8  8  8  8  8  8  8  8  8  8  8  8  8  8  8  8  8  8  8  8  8\n",
      "  8  8  8  8  8  8  8  8  8  8  8  8  8  8  8  8  8  8  8  8  8  8  8  8  8\n",
      "  8  8  8  8  8  8  8  8  8  8  8  8  8  8  8  8  8  8  9  9  9  9  9  9  9\n",
      "  9  9  9  9  9  9  9  9  9  9  9  9  9  9  9  9  9  9  9  9  9  9  9  9 10\n",
      " 10 10 10 10 10 10 10 10 10 10 10 10 10 11 11 11 11 11 11 11 11 12 13 13 14]\n"
     ]
    }
   ],
   "source": [
    "def generate_array(ar):\n",
    "    return np.repeat(range(len(ar)),ar)\n",
    "print generate_array(ar)"
   ]
  },
  {
   "cell_type": "markdown",
   "metadata": {},
   "source": [
    "#### 4. Напишите функцию `scale(X)`, которая принимает на вход матрицу и масштабирует каждый ее столбец (вычитает среднее и делит на стандартное отклонение). Убедитесь, что в функции не будет происходить деления на ноль. Протестируйте на каких-нибудь данных."
   ]
  },
  {
   "cell_type": "code",
   "execution_count": 91,
   "metadata": {
    "collapsed": false
   },
   "outputs": [
    {
     "name": "stdout",
     "output_type": "stream",
     "text": [
      "[[ 0. -1. -1.]\n",
      " [ 0.  1.  1.]]\n",
      "[[-0.42088573  0.02000709  0.48121942 -1.32604851  0.48230758  0.67583164\n",
      "  -1.3487649  -0.42852779  0.13193867  1.0871897 ]\n",
      " [ 0.1173854  -0.24069303 -0.6161566   0.50853403  0.75044555 -0.24077013\n",
      "  -0.4402397  -0.81538703  2.43334288 -1.45738846]\n",
      " [-0.15806883 -0.85276809  0.47238362  0.4348827  -0.04363508 -0.537303\n",
      "   0.55241296 -0.28000893 -0.40405193 -0.31204093]\n",
      " [-1.48743691  1.75730617  0.03976111 -1.0095925  -0.9667377   0.9848162\n",
      "   1.76280785  1.00322147 -0.07680156  0.62766903]\n",
      " [-0.97056648 -0.57973047 -0.68452654  0.26237922 -0.93952726 -1.08835921\n",
      "   0.5908394  -0.52426422 -0.14825386 -0.45454958]\n",
      " [ 0.27040039  0.83777953  1.12751191  0.25656971  0.11943351 -0.26415893\n",
      "  -1.62433867  0.89080724 -0.98699912  0.34763326]\n",
      " [ 1.92013551  0.27214432  1.08113844 -0.82911557 -1.97581779 -0.38179952\n",
      "  -0.02348688 -0.64834393 -0.04575588  1.19071965]\n",
      " [ 1.51712556  1.07338556 -1.87481328 -0.92957243  0.37617814 -0.60812704\n",
      "   0.48822604 -1.77069124 -1.56995739  1.30831134]\n",
      " [-0.7527738  -0.35441945  1.15722275  2.21730419  1.77365914 -0.91189608\n",
      "  -0.79939304  1.02979283  0.01144982 -1.2514989 ]\n",
      " [-0.03531509 -1.93301164 -1.18374083  0.41465916  0.42369391  2.37176608\n",
      "   0.84193694  1.5434016   0.65508838 -1.0860451 ]]\n"
     ]
    }
   ],
   "source": [
    "def scale(X):\n",
    "    std = np.std(X, axis=0)\n",
    "    std = [1 if x==0 else x for x in std]\n",
    "    mean = np.mean(X, axis = 0)\n",
    "    X = (X - mean) / std\n",
    "    return X\n",
    "X = np.array([[2,2,2],[2, 5,19]])\n",
    "print scale(X)\n",
    "print scale(m_1)"
   ]
  },
  {
   "cell_type": "markdown",
   "metadata": {},
   "source": [
    "#### 5. Сгенерируйте матрицу с элементами из нормального распределения $\\mathcal{N}(10, 1)$. Найдите ее:\n",
    "- определитель\n",
    "- след\n",
    "- наименьший и наибольший элементы\n",
    "- спектральную норму\n",
    "- норму Фробениуса\n",
    "- собственные числа\n",
    "- обратную матрицу"
   ]
  },
  {
   "cell_type": "code",
   "execution_count": 112,
   "metadata": {
    "collapsed": false
   },
   "outputs": [
    {
     "name": "stdout",
     "output_type": "stream",
     "text": [
      "[[ 11.53100341  10.48515278  10.40831633  11.00404944  10.65440731]\n",
      " [  9.09081409   9.56133319  10.56164335  10.42636519   8.55456311]\n",
      " [  8.95207569  11.25682857  10.42235979   9.17199581   9.22039642]\n",
      " [  9.96306731   8.4509371    9.45730517   9.71663174  10.74356422]\n",
      " [  9.29556908   8.11008263  10.42842563  11.07466223   9.7319856 ]]\n",
      "35.3684447712\n",
      "50.9633137324\n",
      "11.5310034135\n",
      "8.11008262607\n",
      "49.724069738\n",
      "49.8619612293\n",
      "[ 49.64013108  -1.7279682    2.16704049  -0.17898197   1.06309233]\n",
      "[[-0.37669181  2.29314712 -1.19120027  1.42710459 -2.05017719]\n",
      " [ 0.76593907 -1.68678121  0.90361035 -1.28242233  1.20378215]\n",
      " [-1.74006043  3.55948003 -1.29785971  2.44097583 -2.68891515]\n",
      " [ 1.3167284  -2.85076438  1.02396886 -2.31103061  2.64544062]\n",
      " [ 0.08770093 -1.35477931  0.61026128 -0.28019459  0.92874997]]\n"
     ]
    }
   ],
   "source": [
    "from  numpy.linalg import det\n",
    "from  numpy import trace\n",
    "from numpy.linalg import norm\n",
    "from numpy.linalg import inv\n",
    "from numpy.linalg import eig\n",
    "m =  randn(5, 5) + 10\n",
    "print m\n",
    "det_m = det(m)\n",
    "print det_m\n",
    "trace_m = trace(m)\n",
    "print trace_m\n",
    "max_m = np.max(m)\n",
    "print max_m\n",
    "min_m = np.min(m)\n",
    "print min_m\n",
    "s_norm = norm(m, ord=2)\n",
    "print s_norm\n",
    "f_norm = norm(m, ord='fro')\n",
    "print f_norm\n",
    "eig, eig_v = eig(m)\n",
    "print eig\n",
    "inv_m = inv(m)\n",
    "print inv_m\n"
   ]
  },
  {
   "cell_type": "markdown",
   "metadata": {},
   "source": [
    "матрица = \n",
    "          \n",
    "          [ [ 11.53100341  10.48515278  10.40831633  11.00404944  10.65440731]\n",
    "\n",
    "          [  9.09081409   9.56133319  10.56164335  10.42636519   8.55456311]\n",
    "          \n",
    "          [  8.95207569  11.25682857  10.42235979   9.17199581   9.22039642]\n",
    "          \n",
    "          [  9.96306731   8.4509371    9.45730517   9.71663174  10.74356422]\n",
    "          \n",
    "          [  9.29556908   8.11008263  10.42842563  11.07466223   9.7319856 ]]\n",
    "\n",
    "определитель = 35.3684447712\n",
    "\n",
    "след = 50.9633137324\n",
    "\n",
    "наименьший элемент = 8.11008262607\n",
    "\n",
    "наибольший элемент = 11.5310034135\n",
    "\n",
    "спектральная норма = 49.724069738\n",
    "\n",
    "норма фробениуса = 49.8619612293\n",
    "\n",
    "собственные числа = [ 49.64013108  -1.7279682    2.16704049  -0.17898197   1.06309233]\n",
    "\n",
    "обратная матрица = \n",
    "\n",
    "                    [[-0.37669181  2.29314712 -1.19120027  1.42710459 -2.05017719]\n",
    "                    \n",
    "                    [ 0.76593907 -1.68678121  0.90361035 -1.28242233  1.20378215]\n",
    "                    \n",
    "                    [-1.74006043  3.55948003 -1.29785971  2.44097583 -2.68891515]\n",
    "                    \n",
    "                    [ 1.3167284  -2.85076438  1.02396886 -2.31103061  2.64544062]\n",
    "                    \n",
    "                    [ 0.08770093 -1.35477931  0.61026128 -0.28019459  0.92874997]]"
   ]
  },
  {
   "cell_type": "markdown",
   "metadata": {},
   "source": [
    "## Часть 3: Pandas"
   ]
  },
  {
   "cell_type": "markdown",
   "metadata": {},
   "source": [
    "#### Ответьте на вопросы о данных по авиарейсам в США за январь-апрель 2008 года.\n",
    "\n",
    "Данные: http://stat-computing.org/dataexpo/2009/2008.csv.bz2\n",
    "(обратите внимание, что распаковывать этот файл не обязательно — функция `pandas.read_csv` умеет читать из архивов автоматически)\n",
    "\n",
    "Описание: http://stat-computing.org/dataexpo/2009/the-data.html\n",
    "\n",
    "1. Какая из причин отмены рейса (`CancellationCode`) была самой частой? (расшифровки кодов можно найти в описании данных)\n",
    "2. Найдите среднее, минимальное и максимальное расстояние, пройденное самолетом.\n",
    "3. Не выглядит ли подозрительным минимальное пройденное расстояние? В какие дни и на каких рейсах оно было? Какое расстояние было пройдено этими же рейсами в другие дни?\n",
    "4. Из какого аэропорта было произведено больше всего вылетов? В каком городе он находится?\n",
    "5. Найдите для каждого аэропорта среднее время полета (`AirTime`) по всем вылетевшим из него рейсам. Какой аэропорт имеет наибольшее значение этого показателя?\n",
    "6. Найдите аэропорт, у которого наибольшая доля задержанных (`DepDelay > 0`) рейсов. Исключите при этом из рассмотрения аэропорты, из которых было отправлено меньше 1000 рейсов (используйте функцию `filter` после `groupby`)."
   ]
  },
  {
   "cell_type": "code",
   "execution_count": 3,
   "metadata": {
    "collapsed": false
   },
   "outputs": [
    {
     "data": {
      "text/html": [
       "<div style=\"max-height:1000px;max-width:1500px;overflow:auto;\">\n",
       "<table border=\"1\" class=\"dataframe\">\n",
       "  <thead>\n",
       "    <tr style=\"text-align: right;\">\n",
       "      <th></th>\n",
       "      <th>Year</th>\n",
       "      <th>Month</th>\n",
       "      <th>DayofMonth</th>\n",
       "      <th>DayOfWeek</th>\n",
       "      <th>DepTime</th>\n",
       "      <th>CRSDepTime</th>\n",
       "      <th>ArrTime</th>\n",
       "      <th>CRSArrTime</th>\n",
       "      <th>UniqueCarrier</th>\n",
       "      <th>FlightNum</th>\n",
       "      <th>...</th>\n",
       "      <th>TaxiIn</th>\n",
       "      <th>TaxiOut</th>\n",
       "      <th>Cancelled</th>\n",
       "      <th>CancellationCode</th>\n",
       "      <th>Diverted</th>\n",
       "      <th>CarrierDelay</th>\n",
       "      <th>WeatherDelay</th>\n",
       "      <th>NASDelay</th>\n",
       "      <th>SecurityDelay</th>\n",
       "      <th>LateAircraftDelay</th>\n",
       "    </tr>\n",
       "  </thead>\n",
       "  <tbody>\n",
       "    <tr>\n",
       "      <th>0</th>\n",
       "      <td> 2008</td>\n",
       "      <td> 1</td>\n",
       "      <td> 3</td>\n",
       "      <td> 4</td>\n",
       "      <td> 2003</td>\n",
       "      <td> 1955</td>\n",
       "      <td> 2211</td>\n",
       "      <td> 2225</td>\n",
       "      <td> WN</td>\n",
       "      <td>  335</td>\n",
       "      <td>...</td>\n",
       "      <td> 4</td>\n",
       "      <td>  8</td>\n",
       "      <td> 0</td>\n",
       "      <td> NaN</td>\n",
       "      <td> 0</td>\n",
       "      <td>NaN</td>\n",
       "      <td>NaN</td>\n",
       "      <td>NaN</td>\n",
       "      <td>NaN</td>\n",
       "      <td>NaN</td>\n",
       "    </tr>\n",
       "    <tr>\n",
       "      <th>1</th>\n",
       "      <td> 2008</td>\n",
       "      <td> 1</td>\n",
       "      <td> 3</td>\n",
       "      <td> 4</td>\n",
       "      <td>  754</td>\n",
       "      <td>  735</td>\n",
       "      <td> 1002</td>\n",
       "      <td> 1000</td>\n",
       "      <td> WN</td>\n",
       "      <td> 3231</td>\n",
       "      <td>...</td>\n",
       "      <td> 5</td>\n",
       "      <td> 10</td>\n",
       "      <td> 0</td>\n",
       "      <td> NaN</td>\n",
       "      <td> 0</td>\n",
       "      <td>NaN</td>\n",
       "      <td>NaN</td>\n",
       "      <td>NaN</td>\n",
       "      <td>NaN</td>\n",
       "      <td>NaN</td>\n",
       "    </tr>\n",
       "    <tr>\n",
       "      <th>2</th>\n",
       "      <td> 2008</td>\n",
       "      <td> 1</td>\n",
       "      <td> 3</td>\n",
       "      <td> 4</td>\n",
       "      <td>  628</td>\n",
       "      <td>  620</td>\n",
       "      <td>  804</td>\n",
       "      <td>  750</td>\n",
       "      <td> WN</td>\n",
       "      <td>  448</td>\n",
       "      <td>...</td>\n",
       "      <td> 3</td>\n",
       "      <td> 17</td>\n",
       "      <td> 0</td>\n",
       "      <td> NaN</td>\n",
       "      <td> 0</td>\n",
       "      <td>NaN</td>\n",
       "      <td>NaN</td>\n",
       "      <td>NaN</td>\n",
       "      <td>NaN</td>\n",
       "      <td>NaN</td>\n",
       "    </tr>\n",
       "    <tr>\n",
       "      <th>3</th>\n",
       "      <td> 2008</td>\n",
       "      <td> 1</td>\n",
       "      <td> 3</td>\n",
       "      <td> 4</td>\n",
       "      <td>  926</td>\n",
       "      <td>  930</td>\n",
       "      <td> 1054</td>\n",
       "      <td> 1100</td>\n",
       "      <td> WN</td>\n",
       "      <td> 1746</td>\n",
       "      <td>...</td>\n",
       "      <td> 3</td>\n",
       "      <td>  7</td>\n",
       "      <td> 0</td>\n",
       "      <td> NaN</td>\n",
       "      <td> 0</td>\n",
       "      <td>NaN</td>\n",
       "      <td>NaN</td>\n",
       "      <td>NaN</td>\n",
       "      <td>NaN</td>\n",
       "      <td>NaN</td>\n",
       "    </tr>\n",
       "    <tr>\n",
       "      <th>4</th>\n",
       "      <td> 2008</td>\n",
       "      <td> 1</td>\n",
       "      <td> 3</td>\n",
       "      <td> 4</td>\n",
       "      <td> 1829</td>\n",
       "      <td> 1755</td>\n",
       "      <td> 1959</td>\n",
       "      <td> 1925</td>\n",
       "      <td> WN</td>\n",
       "      <td> 3920</td>\n",
       "      <td>...</td>\n",
       "      <td> 3</td>\n",
       "      <td> 10</td>\n",
       "      <td> 0</td>\n",
       "      <td> NaN</td>\n",
       "      <td> 0</td>\n",
       "      <td>  2</td>\n",
       "      <td>  0</td>\n",
       "      <td>  0</td>\n",
       "      <td>  0</td>\n",
       "      <td> 32</td>\n",
       "    </tr>\n",
       "  </tbody>\n",
       "</table>\n",
       "<p>5 rows × 29 columns</p>\n",
       "</div>"
      ],
      "text/plain": [
       "   Year  Month  DayofMonth  DayOfWeek  DepTime  CRSDepTime  ArrTime  \\\n",
       "0  2008      1           3          4     2003        1955     2211   \n",
       "1  2008      1           3          4      754         735     1002   \n",
       "2  2008      1           3          4      628         620      804   \n",
       "3  2008      1           3          4      926         930     1054   \n",
       "4  2008      1           3          4     1829        1755     1959   \n",
       "\n",
       "   CRSArrTime UniqueCarrier  FlightNum        ...         TaxiIn  TaxiOut  \\\n",
       "0        2225            WN        335        ...              4        8   \n",
       "1        1000            WN       3231        ...              5       10   \n",
       "2         750            WN        448        ...              3       17   \n",
       "3        1100            WN       1746        ...              3        7   \n",
       "4        1925            WN       3920        ...              3       10   \n",
       "\n",
       "   Cancelled  CancellationCode  Diverted  CarrierDelay WeatherDelay NASDelay  \\\n",
       "0          0               NaN         0           NaN          NaN      NaN   \n",
       "1          0               NaN         0           NaN          NaN      NaN   \n",
       "2          0               NaN         0           NaN          NaN      NaN   \n",
       "3          0               NaN         0           NaN          NaN      NaN   \n",
       "4          0               NaN         0             2            0        0   \n",
       "\n",
       "   SecurityDelay  LateAircraftDelay  \n",
       "0            NaN                NaN  \n",
       "1            NaN                NaN  \n",
       "2            NaN                NaN  \n",
       "3            NaN                NaN  \n",
       "4              0                 32  \n",
       "\n",
       "[5 rows x 29 columns]"
      ]
     },
     "execution_count": 3,
     "metadata": {},
     "output_type": "execute_result"
    }
   ],
   "source": [
    "import pandas as pd\n",
    "df = pd.read_csv(\"2008.csv\")\n",
    "df.head()"
   ]
  },
  {
   "cell_type": "code",
   "execution_count": 4,
   "metadata": {
    "collapsed": false
   },
   "outputs": [
    {
     "data": {
      "text/plain": [
       "'B'"
      ]
     },
     "execution_count": 4,
     "metadata": {},
     "output_type": "execute_result"
    }
   ],
   "source": [
    "df['CancellationCode'].value_counts().idxmax()"
   ]
  },
  {
   "cell_type": "markdown",
   "metadata": {},
   "source": [
    "1) Самая частая причина отмены рейсов погода(\"weather\")"
   ]
  },
  {
   "cell_type": "code",
   "execution_count": 5,
   "metadata": {
    "collapsed": false
   },
   "outputs": [
    {
     "data": {
      "text/plain": [
       "726.38702942539283"
      ]
     },
     "execution_count": 5,
     "metadata": {},
     "output_type": "execute_result"
    }
   ],
   "source": [
    "df[\"Distance\"].mean()"
   ]
  },
  {
   "cell_type": "code",
   "execution_count": 6,
   "metadata": {
    "collapsed": false
   },
   "outputs": [
    {
     "data": {
      "text/plain": [
       "4962"
      ]
     },
     "execution_count": 6,
     "metadata": {},
     "output_type": "execute_result"
    }
   ],
   "source": [
    "df[\"Distance\"].max()"
   ]
  },
  {
   "cell_type": "code",
   "execution_count": 7,
   "metadata": {
    "collapsed": false
   },
   "outputs": [
    {
     "data": {
      "text/plain": [
       "11"
      ]
     },
     "execution_count": 7,
     "metadata": {},
     "output_type": "execute_result"
    }
   ],
   "source": [
    "df[\"Distance\"].min()"
   ]
  },
  {
   "cell_type": "markdown",
   "metadata": {},
   "source": [
    "2) Среднее расстояние пройденное самолетом 726.38702942539283\n",
    "\n",
    "  Максимальное расстояние пройденное самолетом 4962\n",
    "  \n",
    "  Минимальное расстояние пройденное самолетом 11"
   ]
  },
  {
   "cell_type": "code",
   "execution_count": 8,
   "metadata": {
    "collapsed": false
   },
   "outputs": [
    {
     "data": {
      "text/html": [
       "<div style=\"max-height:1000px;max-width:1500px;overflow:auto;\">\n",
       "<table border=\"1\" class=\"dataframe\">\n",
       "  <thead>\n",
       "    <tr style=\"text-align: right;\">\n",
       "      <th></th>\n",
       "      <th>Year</th>\n",
       "      <th>Month</th>\n",
       "      <th>DayofMonth</th>\n",
       "      <th>FlightNum</th>\n",
       "      <th>TailNum</th>\n",
       "    </tr>\n",
       "  </thead>\n",
       "  <tbody>\n",
       "    <tr>\n",
       "      <th>2547298</th>\n",
       "      <td> 2008</td>\n",
       "      <td> 5</td>\n",
       "      <td> 15</td>\n",
       "      <td> 4988</td>\n",
       "      <td> N806CA</td>\n",
       "    </tr>\n",
       "    <tr>\n",
       "      <th>4392215</th>\n",
       "      <td> 2008</td>\n",
       "      <td> 8</td>\n",
       "      <td> 10</td>\n",
       "      <td> 5572</td>\n",
       "      <td> N819CA</td>\n",
       "    </tr>\n",
       "  </tbody>\n",
       "</table>\n",
       "</div>"
      ],
      "text/plain": [
       "         Year  Month  DayofMonth  FlightNum TailNum\n",
       "2547298  2008      5          15       4988  N806CA\n",
       "4392215  2008      8          10       5572  N819CA"
      ]
     },
     "execution_count": 8,
     "metadata": {},
     "output_type": "execute_result"
    }
   ],
   "source": [
    "df[[\"Year\", \"Month\", \"DayofMonth\", \"FlightNum\", \"TailNum\"]][df[\"Distance\"] == 11]"
   ]
  },
  {
   "cell_type": "code",
   "execution_count": 9,
   "metadata": {
    "collapsed": false
   },
   "outputs": [
    {
     "data": {
      "text/plain": [
       "array([834])"
      ]
     },
     "execution_count": 9,
     "metadata": {},
     "output_type": "execute_result"
    }
   ],
   "source": [
    "df[\"Distance\"][(df[\"FlightNum\"]==4988) & (df[\"TailNum\"]==\"N806CA\") & ((df[\"Year\"] != 2008) | (df[\"Month\"] != 5) | (df[\"DayofMonth\"]!=15))].unique()"
   ]
  },
  {
   "cell_type": "code",
   "execution_count": 10,
   "metadata": {
    "collapsed": false
   },
   "outputs": [
    {
     "data": {
      "text/plain": [
       "array([544])"
      ]
     },
     "execution_count": 10,
     "metadata": {},
     "output_type": "execute_result"
    }
   ],
   "source": [
    "df[\"Distance\"][(df[\"FlightNum\"]==5572) & (df[\"TailNum\"]==\"N819CA\") & ((df[\"Year\"] != 2008)| (df[\"Month\"] != 8) | (df[\"DayofMonth\"]!=10))].unique()"
   ]
  },
  {
   "cell_type": "markdown",
   "metadata": {},
   "source": [
    "3) Выглядит. Оно было 15 мая 2008 на рейсе 4988 N806CA и 10 августа 2008 на рейсе 5572 N819CA.\n",
    "\n",
    "В другие дни рейс 4988 пролетал одно из этих значений: 834 мили. \n",
    "\n",
    "В другие дни рейс 5572 N819CA пролетал 544 мили. "
   ]
  },
  {
   "cell_type": "code",
   "execution_count": 12,
   "metadata": {
    "collapsed": false
   },
   "outputs": [
    {
     "data": {
      "text/html": [
       "<div style=\"max-height:1000px;max-width:1500px;overflow:auto;\">\n",
       "<table border=\"1\" class=\"dataframe\">\n",
       "  <thead>\n",
       "    <tr style=\"text-align: right;\">\n",
       "      <th></th>\n",
       "      <th>city</th>\n",
       "      <th>airport</th>\n",
       "    </tr>\n",
       "  </thead>\n",
       "  <tbody>\n",
       "    <tr>\n",
       "      <th>880</th>\n",
       "      <td> Atlanta</td>\n",
       "      <td> William B Hartsfield-Atlanta Intl</td>\n",
       "    </tr>\n",
       "  </tbody>\n",
       "</table>\n",
       "</div>"
      ],
      "text/plain": [
       "        city                            airport\n",
       "880  Atlanta  William B Hartsfield-Atlanta Intl"
      ]
     },
     "execution_count": 12,
     "metadata": {},
     "output_type": "execute_result"
    }
   ],
   "source": [
    "airport_id = df['Origin'][df['Cancelled'] == 0].value_counts().idxmax()\n",
    "df_a = pd.read_csv(\"airports.csv\")\n",
    "df_a[[\"city\", \"airport\"]][df_a[\"iata\"] == airport_id]"
   ]
  },
  {
   "cell_type": "markdown",
   "metadata": {},
   "source": [
    "4)Больше всего вылетов было произведено из аэропорта William B Hartsfield-Atlanta Intl, который находится в Atlanta\t"
   ]
  },
  {
   "cell_type": "code",
   "execution_count": 13,
   "metadata": {
    "collapsed": false
   },
   "outputs": [
    {
     "data": {
      "text/plain": [
       "Origin\n",
       "ABE        89.057518\n",
       "ABI        36.789977\n",
       "ABQ        91.657166\n",
       "ABY        35.379759\n",
       "ACK        50.692124\n",
       "ACT        29.875977\n",
       "ACV        58.850658\n",
       "ACY       108.848214\n",
       "ADK       151.423913\n",
       "ADQ        41.987934\n",
       "AEX        68.543556\n",
       "AGS        36.933814\n",
       "AKN        37.321429\n",
       "ALB       101.860527\n",
       "ALO        36.373134\n",
       "...\n",
       "TUP       42.900000\n",
       "TUS       92.801864\n",
       "TVC       49.328770\n",
       "TWF       41.316563\n",
       "TXK       43.796312\n",
       "TYR       30.372715\n",
       "TYS       81.030894\n",
       "VLD       45.158351\n",
       "VPS       75.231116\n",
       "WRG       16.741606\n",
       "WYS       62.961977\n",
       "XNA       84.253180\n",
       "YAK       36.372159\n",
       "YKM       80.697329\n",
       "YUM       48.876952\n",
       "Name: AirTime, Length: 303, dtype: float64"
      ]
     },
     "execution_count": 13,
     "metadata": {},
     "output_type": "execute_result"
    }
   ],
   "source": [
    "df[df[\"Cancelled\"] == 0].groupby('Origin').AirTime.mean()"
   ]
  },
  {
   "cell_type": "code",
   "execution_count": 14,
   "metadata": {
    "collapsed": false
   },
   "outputs": [
    {
     "data": {
      "text/plain": [
       "'SJU'"
      ]
     },
     "execution_count": 14,
     "metadata": {},
     "output_type": "execute_result"
    }
   ],
   "source": [
    "df[df[\"Cancelled\"] == 0].groupby('Origin').AirTime.mean().idxmax()"
   ]
  },
  {
   "cell_type": "markdown",
   "metadata": {},
   "source": [
    "5) Наиболбшее среднее время полета имеет аэропорт 'SJU'"
   ]
  },
  {
   "cell_type": "code",
   "execution_count": 15,
   "metadata": {
    "collapsed": false
   },
   "outputs": [
    {
     "data": {
      "text/plain": [
       "'DAL'"
      ]
     },
     "execution_count": 15,
     "metadata": {},
     "output_type": "execute_result"
    }
   ],
   "source": [
    "z = lambda x: len(x[x > 0]) * 1.0 / len(x)\n",
    "df.groupby('Origin').filter(lambda x:len(x) > 1000).groupby('Origin').DepDelay.agg(z).idxmax()\n"
   ]
  },
  {
   "cell_type": "markdown",
   "metadata": {},
   "source": [
    "6)Наибольшая доля задержанных рейсов у аэропорта 'DAL'"
   ]
  },
  {
   "cell_type": "code",
   "execution_count": null,
   "metadata": {
    "collapsed": true
   },
   "outputs": [],
   "source": []
  }
 ],
 "metadata": {
  "kernelspec": {
   "display_name": "Python 2",
   "language": "python",
   "name": "python2"
  },
  "language_info": {
   "codemirror_mode": {
    "name": "ipython",
    "version": 2
   },
   "file_extension": ".py",
   "mimetype": "text/x-python",
   "name": "python",
   "nbconvert_exporter": "python",
   "pygments_lexer": "ipython2",
   "version": "2.7.9"
  }
 },
 "nbformat": 4,
 "nbformat_minor": 0
}
